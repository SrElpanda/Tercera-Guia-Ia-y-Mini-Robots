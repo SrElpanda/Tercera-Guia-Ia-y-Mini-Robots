{
  "nbformat": 4,
  "nbformat_minor": 0,
  "metadata": {
    "colab": {
      "provenance": []
    },
    "kernelspec": {
      "name": "python3",
      "display_name": "Python 3"
    },
    "language_info": {
      "name": "python"
    }
  },
  "cells": [
    {
      "cell_type": "markdown",
      "source": [
        "Nombre: Juan Felipe Fajardo Garzón\n",
        "\n",
        "IA y Minirobots\n",
        "\n",
        "Algorítmo genético para maximizar la función 𝑓(𝑥) = 𝑥 𝑠𝑒𝑛(10 𝜋 x) + 1, con 𝑥 ∈ [0,1]"
      ],
      "metadata": {
        "id": "6GmceWbVGq3I"
      }
    },
    {
      "cell_type": "markdown",
      "source": [
        "Importar las librerías necesarias"
      ],
      "metadata": {
        "id": "R_aI-7xBG4HL"
      }
    },
    {
      "cell_type": "code",
      "execution_count": null,
      "metadata": {
        "id": "r-oZ2XPuogWt"
      },
      "outputs": [],
      "source": [
        "import numpy as np\n",
        "import random\n",
        "import math as mt"
      ]
    },
    {
      "cell_type": "markdown",
      "source": [
        "Inicialización de variables"
      ],
      "metadata": {
        "id": "920hwqOSG6Kf"
      }
    },
    {
      "cell_type": "code",
      "source": [
        "tam_arreglo = 20\n",
        "n_poblacion = 100"
      ],
      "metadata": {
        "id": "po6HQLbCujUk"
      },
      "execution_count": null,
      "outputs": []
    },
    {
      "cell_type": "markdown",
      "source": [
        "Creacion de la población inicial"
      ],
      "metadata": {
        "id": "ydRBU_FnqgKt"
      }
    },
    {
      "cell_type": "code",
      "source": [
        "def pob_ini():\n",
        "  pob = np.array([np.random.randint(0, 2, (tam_arreglo)) for _ in range(n_poblacion)])\n",
        "  return pob\n",
        "print(pob_ini())"
      ],
      "metadata": {
        "colab": {
          "base_uri": "https://localhost:8080/"
        },
        "id": "QFswMNbDpgoO",
        "outputId": "f7bb9665-ab3d-4af3-ff93-915a832e5594"
      },
      "execution_count": null,
      "outputs": [
        {
          "output_type": "stream",
          "name": "stdout",
          "text": [
            "[[1 1 1 ... 0 1 1]\n",
            " [0 0 0 ... 0 0 0]\n",
            " [1 0 0 ... 1 0 0]\n",
            " ...\n",
            " [1 1 1 ... 1 1 0]\n",
            " [1 0 0 ... 1 0 1]\n",
            " [0 1 1 ... 0 0 1]]\n"
          ]
        }
      ]
    },
    {
      "cell_type": "markdown",
      "source": [
        "Evaluación en la función a maximizar, primero se calcula el valor en decimal del arreglo, luego el valor x entre 0 y 1; finalmente se evalua ese valor x en la función"
      ],
      "metadata": {
        "id": "KlNdId5HvWfm"
      }
    },
    {
      "cell_type": "code",
      "source": [
        "def fun(pob):\n",
        "  #Calculo del valor en decimal\n",
        "  val_decimal = np.array([int(''.join(str(b) for b in pob[i]), 2) for i in range(n_poblacion)])\n",
        "  #Calculo del valor en X ∈ [0,1]\n",
        "  val_x = val_decimal/2**tam_arreglo\n",
        "  #Calculo del fx\n",
        "  fx = val_x*np.sin(10*np.pi*val_x)+1\n",
        "  return fx,val_x"
      ],
      "metadata": {
        "id": "vb3LCOt6vZlE"
      },
      "execution_count": null,
      "outputs": []
    },
    {
      "cell_type": "markdown",
      "source": [
        "Calculo de la aptitud"
      ],
      "metadata": {
        "id": "Cc-iPnpHxMjV"
      }
    },
    {
      "cell_type": "code",
      "source": [
        "def aptitud(vals):\n",
        "  max_val = vals.max()\n",
        "  min_val = vals.min()\n",
        "  if max_val == min_val:\n",
        "    return np.zeros(len(vals))\n",
        "  aptitudes = np.array([(vals[i] - min_val) / (max_val - min_val) for i in range(n_poblacion)])\n",
        "  return aptitudes"
      ],
      "metadata": {
        "id": "yVSozaCWvYtD"
      },
      "execution_count": null,
      "outputs": []
    },
    {
      "cell_type": "markdown",
      "source": [
        "Seleccion por ruleta"
      ],
      "metadata": {
        "id": "RQmFkW134axs"
      }
    },
    {
      "cell_type": "code",
      "source": [
        "def seleccion(pob,aptitud):\n",
        "  new_seleccion = []\n",
        "  probabilidades = aptitud / np.sum(aptitud)\n",
        "  # ruleta acumulada\n",
        "  ruleta = np.cumsum(probabilidades)\n",
        "  for i in range(n_poblacion):\n",
        "    # número aleatorio entre 0 y 1\n",
        "    r = np.random.rand()\n",
        "\n",
        "    # índice del individuo seleccionado\n",
        "    seleccionado = np.searchsorted(ruleta, r, side='right')\n",
        "    new_seleccion.append(pob[seleccionado])\n",
        "\n",
        "  return np.array(new_seleccion)"
      ],
      "metadata": {
        "id": "4RP9sdZ24cYb"
      },
      "execution_count": null,
      "outputs": []
    },
    {
      "cell_type": "markdown",
      "source": [
        "Cruce de cromosomas"
      ],
      "metadata": {
        "id": "C-qtjwjL05JZ"
      }
    },
    {
      "cell_type": "code",
      "source": [
        "def cruce(pob):\n",
        "  new_gen =[]\n",
        "  for z in range(0,n_poblacion,2):\n",
        "    h = random.randint(2, tam_arreglo-2)\n",
        "    hijo_1 = np.array(np.concatenate((pob[z][:h],pob[z+1][h:])))\n",
        "    hijo_2 = np.array(np.concatenate((pob[z+1][:h],pob[z][h:])))\n",
        "    new_gen.append(hijo_1)\n",
        "    new_gen.append(hijo_2)\n",
        "  return np.array(new_gen)"
      ],
      "metadata": {
        "id": "QCHOmcR506tL"
      },
      "execution_count": null,
      "outputs": []
    },
    {
      "cell_type": "markdown",
      "source": [
        "Mutación de los cromosomas"
      ],
      "metadata": {
        "id": "zOL4wb-qE93B"
      }
    },
    {
      "cell_type": "code",
      "source": [
        "def mutacion(pob):\n",
        "  new_gen=np.copy(pob)\n",
        "  r = np.random.randint(0, n_poblacion)\n",
        "  c = np.random.randint(0, tam_arreglo)\n",
        "  if new_gen[r][c] == 0:\n",
        "    new_gen[r][c] = 1\n",
        "  else:\n",
        "    new_gen[r][c] = 0\n",
        "  return new_gen"
      ],
      "metadata": {
        "id": "qX5t6TRpE_0B"
      },
      "execution_count": null,
      "outputs": []
    },
    {
      "cell_type": "markdown",
      "source": [
        "Ejecucion principal"
      ],
      "metadata": {
        "id": "UZl0WF2515ku"
      }
    },
    {
      "cell_type": "code",
      "source": [
        "poblacion = pob_ini()\n",
        "\n",
        "for i in range(20):\n",
        "  fx_act = fun(poblacion)\n",
        "  indice_mejor = np.argmax(fx_act[0])\n",
        "  print(\"Generacion: \",i,\" el mejor cromosoma es \",poblacion[indice_mejor],\" con un valor fx de: \",fun(poblacion)[0][indice_mejor])\n",
        "  poblacion = seleccion(poblacion,aptitud(fun(poblacion)[0]))\n",
        "  poblacion = cruce(poblacion)\n",
        "  poblacion = mutacion(poblacion)\n",
        "indice_mejor = np.argmax(fx_act[0])\n",
        "print(\"Maximo de \",fun(poblacion)[0][indice_mejor],\" encontrado en x = \",fun(poblacion)[1][indice_mejor],\" con el cromosoma: \",poblacion[indice_mejor])"
      ],
      "metadata": {
        "colab": {
          "base_uri": "https://localhost:8080/"
        },
        "id": "Vj4Qlj0Z17uC",
        "outputId": "fbcea716-68d9-4bbb-ac4a-57781e8d16a5"
      },
      "execution_count": null,
      "outputs": [
        {
          "output_type": "stream",
          "name": "stdout",
          "text": [
            "Generacion:  0  el mejor cromosoma es  [1 1 0 1 1 0 0 1 0 0 0 1 1 1 1 1 1 1 0 0]  con un valor fx de:  1.8466942600256449\n",
            "Generacion:  1  el mejor cromosoma es  [1 1 0 1 1 0 0 1 0 0 0 1 1 1 1 1 0 1 1 1]  con un valor fx de:  1.8466820731896467\n",
            "Generacion:  2  el mejor cromosoma es  [1 1 0 1 1 0 0 1 1 1 1 1 0 0 0 1 1 1 0 0]  con un valor fx de:  1.8505850938824355\n",
            "Generacion:  3  el mejor cromosoma es  [1 1 0 1 1 0 1 0 0 0 0 0 0 0 0 1 0 0 1 1]  con un valor fx de:  1.850530929666693\n",
            "Generacion:  4  el mejor cromosoma es  [1 1 0 1 1 0 1 0 0 0 0 0 0 0 0 1 1 0 1 1]  con un valor fx de:  1.8505283938505204\n",
            "Generacion:  5  el mejor cromosoma es  [1 1 0 1 1 0 0 1 1 0 1 1 1 1 1 1 1 1 0 0]  con un valor fx de:  1.8504398889023448\n",
            "Generacion:  6  el mejor cromosoma es  [1 1 0 1 1 0 1 0 0 0 0 1 0 1 1 0 1 1 1 1]  con un valor fx de:  1.8503752775700648\n",
            "Generacion:  7  el mejor cromosoma es  [1 1 0 1 1 0 0 1 1 0 0 1 0 0 1 1 1 1 0 0]  con un valor fx de:  1.8499073941747426\n",
            "Generacion:  8  el mejor cromosoma es  [1 1 0 1 1 0 0 1 1 0 1 1 1 1 0 1 0 0 1 0]  con un valor fx de:  1.850418740005407\n",
            "Generacion:  9  el mejor cromosoma es  [1 1 0 1 1 0 0 1 1 1 1 1 0 0 1 0 0 0 0 0]  con un valor fx de:  1.8505845890340222\n",
            "Generacion:  10  el mejor cromosoma es  [1 1 0 1 1 0 0 1 1 1 1 1 0 0 1 0 0 0 0 0]  con un valor fx de:  1.8505845890340222\n",
            "Generacion:  11  el mejor cromosoma es  [1 1 0 1 1 0 0 1 1 1 0 1 1 1 1 0 1 1 1 1]  con un valor fx de:  1.8505879331597155\n",
            "Generacion:  12  el mejor cromosoma es  [1 1 0 1 1 0 0 1 1 1 0 1 1 1 1 1 1 0 1 0]  con un valor fx de:  1.8505890505295433\n",
            "Generacion:  13  el mejor cromosoma es  [1 1 0 1 1 0 0 1 1 1 0 1 1 1 1 0 1 1 1 1]  con un valor fx de:  1.8505879331597155\n",
            "Generacion:  14  el mejor cromosoma es  [1 1 0 1 1 0 0 1 1 1 0 1 1 1 1 0 1 1 1 1]  con un valor fx de:  1.8505879331597155\n",
            "Generacion:  15  el mejor cromosoma es  [1 1 0 1 1 0 0 1 1 1 0 1 1 1 1 0 1 1 1 0]  con un valor fx de:  1.8505878269881033\n",
            "Generacion:  16  el mejor cromosoma es  [1 1 0 1 1 0 0 1 1 1 1 1 0 0 0 1 0 0 0 0]  con un valor fx de:  1.8505865348988793\n",
            "Generacion:  17  el mejor cromosoma es  [1 1 0 1 1 0 0 1 1 1 0 1 1 1 1 0 1 1 1 0]  con un valor fx de:  1.8505878269881033\n",
            "Generacion:  18  el mejor cromosoma es  [1 1 0 1 1 0 0 1 1 1 0 1 1 1 1 0 1 1 1 0]  con un valor fx de:  1.8505878269881033\n",
            "Generacion:  19  el mejor cromosoma es  [1 1 0 1 1 0 0 1 1 1 0 1 1 1 0 1 1 1 1 0]  con un valor fx de:  1.8505860241470993\n",
            "Maximo de  1.839162293911326  encontrado en x =  0.8459615707397461  con el cromosoma:  [1 1 0 1 1 0 0 0 1 0 0 1 0 0 0 0 1 1 1 1]\n"
          ]
        }
      ]
    }
  ]
}